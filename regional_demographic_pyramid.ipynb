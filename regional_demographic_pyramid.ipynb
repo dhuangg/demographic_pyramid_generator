{
 "cells": [
  {
   "cell_type": "code",
   "execution_count": 1,
   "outputs": [],
   "source": [
    "from web3 import Web3"
   ],
   "metadata": {
    "collapsed": false,
    "pycharm": {
     "name": "#%%\n"
    }
   }
  },
  {
   "cell_type": "code",
   "execution_count": 2,
   "outputs": [
    {
     "data": {
      "text/plain": "1000000000000000000"
     },
     "execution_count": 2,
     "metadata": {},
     "output_type": "execute_result"
    }
   ],
   "source": [
    "Web3.toWei(1, 'ether')"
   ],
   "metadata": {
    "collapsed": false,
    "pycharm": {
     "name": "#%%\n"
    }
   }
  },
  {
   "cell_type": "code",
   "execution_count": 3,
   "outputs": [
    {
     "data": {
      "text/plain": "Decimal('0.5')"
     },
     "execution_count": 3,
     "metadata": {},
     "output_type": "execute_result"
    }
   ],
   "source": [
    "Web3.fromWei(500000000, 'gwei')"
   ],
   "metadata": {
    "collapsed": false,
    "pycharm": {
     "name": "#%%\n"
    }
   }
  },
  {
   "cell_type": "code",
   "execution_count": 4,
   "outputs": [],
   "source": [
    "w3 = Web3(Web3.EthereumTesterProvider())"
   ],
   "metadata": {
    "collapsed": false,
    "pycharm": {
     "name": "#%%\n"
    }
   }
  },
  {
   "cell_type": "code",
   "execution_count": 5,
   "outputs": [
    {
     "data": {
      "text/plain": "True"
     },
     "execution_count": 5,
     "metadata": {},
     "output_type": "execute_result"
    }
   ],
   "source": [
    "w3.isConnected()"
   ],
   "metadata": {
    "collapsed": false,
    "pycharm": {
     "name": "#%%\n"
    }
   }
  },
  {
   "cell_type": "code",
   "execution_count": 6,
   "outputs": [
    {
     "data": {
      "text/plain": "['0x7E5F4552091A69125d5DfCb7b8C2659029395Bdf',\n '0x2B5AD5c4795c026514f8317c7a215E218DcCD6cF',\n '0x6813Eb9362372EEF6200f3b1dbC3f819671cBA69',\n '0x1efF47bc3a10a45D4B230B5d10E37751FE6AA718',\n '0xe1AB8145F7E55DC933d51a18c793F901A3A0b276',\n '0xE57bFE9F44b819898F47BF37E5AF72a0783e1141',\n '0xd41c057fd1c78805AAC12B0A94a405c0461A6FBb',\n '0xF1F6619B38A98d6De0800F1DefC0a6399eB6d30C',\n '0xF7Edc8FA1eCc32967F827C9043FcAe6ba73afA5c',\n '0x4CCeBa2d7D2B4fdcE4304d3e09a1fea9fbEb1528']"
     },
     "execution_count": 6,
     "metadata": {},
     "output_type": "execute_result"
    }
   ],
   "source": [
    "w3.eth.accounts"
   ],
   "metadata": {
    "collapsed": false,
    "pycharm": {
     "name": "#%%\n"
    }
   }
  },
  {
   "cell_type": "code",
   "execution_count": 8,
   "outputs": [],
   "source": [
    "first_acc_bal = w3.eth.get_balance(w3.eth.accounts[0])"
   ],
   "metadata": {
    "collapsed": false,
    "pycharm": {
     "name": "#%%\n"
    }
   }
  },
  {
   "cell_type": "code",
   "execution_count": 9,
   "outputs": [
    {
     "data": {
      "text/plain": "Decimal('1000000')"
     },
     "execution_count": 9,
     "metadata": {},
     "output_type": "execute_result"
    }
   ],
   "source": [
    "w3.fromWei(first_acc_bal, 'ether')"
   ],
   "metadata": {
    "collapsed": false,
    "pycharm": {
     "name": "#%%\n"
    }
   }
  },
  {
   "cell_type": "code",
   "execution_count": 10,
   "outputs": [
    {
     "data": {
      "text/plain": "AttributeDict({'number': 0,\n 'hash': HexBytes('0xf317daefe8b36e7fcca6d174d3cdaef1974158bb989e907d8b8f72e043646503'),\n 'parentHash': HexBytes('0x0000000000000000000000000000000000000000000000000000000000000000'),\n 'nonce': HexBytes('0x000000000000002a'),\n 'sha3Uncles': HexBytes('0x1dcc4de8dec75d7aab85b567b6ccd41ad312451b948a7413f0a142fd40d49347'),\n 'logs_bloom': 0,\n 'transactionsRoot': HexBytes('0x56e81f171bcc55a6ff8345e692c0f86e5b48e01b996cadc001622fb5e363b421'),\n 'receipts_root': '0x56e81f171bcc55a6ff8345e692c0f86e5b48e01b996cadc001622fb5e363b421',\n 'stateRoot': HexBytes('0xf1588db9a9f1ed91effabdec31f93cb4212b008c8b8ba047fd55fabebf6fd727'),\n 'miner': '0x0000000000000000000000000000000000000000',\n 'difficulty': 131072,\n 'totalDifficulty': 131072,\n 'size': 517,\n 'extraData': HexBytes('0x0000000000000000000000000000000000000000000000000000000000000000'),\n 'gasLimit': 30029122,\n 'gasUsed': 0,\n 'timestamp': 1653501985,\n 'transactions': [],\n 'uncles': [],\n 'baseFeePerGas': 1000000000})"
     },
     "execution_count": 10,
     "metadata": {},
     "output_type": "execute_result"
    }
   ],
   "source": [
    "w3.eth.get_block('latest')"
   ],
   "metadata": {
    "collapsed": false,
    "pycharm": {
     "name": "#%%\n"
    }
   }
  },
  {
   "cell_type": "code",
   "execution_count": 11,
   "outputs": [],
   "source": [
    "tx_hash = w3.eth.send_transaction({\n",
    "    'from': w3.eth.accounts[0],\n",
    "    'to': w3.eth.accounts[1],\n",
    "    'value': w3.toWei(3, 'ether')\n",
    "})"
   ],
   "metadata": {
    "collapsed": false,
    "pycharm": {
     "name": "#%%\n"
    }
   }
  },
  {
   "cell_type": "code",
   "execution_count": 12,
   "outputs": [
    {
     "data": {
      "text/plain": "AttributeDict({'blockHash': HexBytes('0x9548510d567ae7b71a82d57b8625143349efc34b60eb30a89be778f641127a85'),\n 'blockNumber': 1,\n 'contractAddress': None,\n 'cumulativeGasUsed': 21000,\n 'effectiveGasPrice': 1000000000,\n 'from': '0x7E5F4552091A69125d5DfCb7b8C2659029395Bdf',\n 'gasUsed': 21000,\n 'logs': [],\n 'state_root': b'\\x01',\n 'status': 1,\n 'to': '0x2B5AD5c4795c026514f8317c7a215E218DcCD6cF',\n 'transactionHash': HexBytes('0x9e473ea541a2df4b180a45585a7751e48a753f7ba6e5d46f35d59bff6046b4bb'),\n 'transactionIndex': 0,\n 'type': '0x2'})"
     },
     "execution_count": 12,
     "metadata": {},
     "output_type": "execute_result"
    }
   ],
   "source": [
    "w3.eth.wait_for_transaction_receipt(tx_hash)"
   ],
   "metadata": {
    "collapsed": false,
    "pycharm": {
     "name": "#%%\n"
    }
   }
  },
  {
   "cell_type": "code",
   "execution_count": 13,
   "outputs": [
    {
     "data": {
      "text/plain": "AttributeDict({'type': '0x2',\n 'hash': HexBytes('0x9e473ea541a2df4b180a45585a7751e48a753f7ba6e5d46f35d59bff6046b4bb'),\n 'nonce': 0,\n 'blockHash': HexBytes('0x9548510d567ae7b71a82d57b8625143349efc34b60eb30a89be778f641127a85'),\n 'blockNumber': 1,\n 'transactionIndex': 0,\n 'from': '0x7E5F4552091A69125d5DfCb7b8C2659029395Bdf',\n 'to': '0x2B5AD5c4795c026514f8317c7a215E218DcCD6cF',\n 'value': 3000000000000000000,\n 'gas': 121000,\n 'data': '0x',\n 'r': HexBytes('0x6ee7b2551baa2de937502e2286a6dca35164b5e9a4a7d4a6fff4c616e5f3e671'),\n 's': HexBytes('0x441615d3bde4467c387fd45455909fa243c4881d17c9fa83ccd2dc0e7eb5bb1d'),\n 'v': 0,\n 'chain_id': 131277322940537,\n 'maxFeePerGas': 1000000000,\n 'maxPriorityFeePerGas': 1000000000,\n 'accessList': [],\n 'gasPrice': 1000000000})"
     },
     "execution_count": 13,
     "metadata": {},
     "output_type": "execute_result"
    }
   ],
   "source": [
    "w3.eth.get_transaction(tx_hash)"
   ],
   "metadata": {
    "collapsed": false,
    "pycharm": {
     "name": "#%%\n"
    }
   }
  },
  {
   "cell_type": "code",
   "execution_count": 14,
   "outputs": [
    {
     "data": {
      "text/plain": "999996999979000000000000"
     },
     "execution_count": 14,
     "metadata": {},
     "output_type": "execute_result"
    }
   ],
   "source": [
    "w3.eth.get_balance(w3.eth.accounts[0])"
   ],
   "metadata": {
    "collapsed": false,
    "pycharm": {
     "name": "#%%\n"
    }
   }
  },
  {
   "cell_type": "code",
   "execution_count": 15,
   "outputs": [
    {
     "data": {
      "text/plain": "1000003000000000000000000"
     },
     "execution_count": 15,
     "metadata": {},
     "output_type": "execute_result"
    }
   ],
   "source": [
    "w3.eth.get_balance(w3.eth.accounts[1])"
   ],
   "metadata": {
    "collapsed": false,
    "pycharm": {
     "name": "#%%\n"
    }
   }
  },
  {
   "cell_type": "code",
   "execution_count": 16,
   "outputs": [],
   "source": [
    "acct = w3.eth.account.create()"
   ],
   "metadata": {
    "collapsed": false,
    "pycharm": {
     "name": "#%%\n"
    }
   }
  },
  {
   "cell_type": "code",
   "execution_count": 18,
   "outputs": [
    {
     "data": {
      "text/plain": "'0x73ea201638C3A0313740283809A073751B86c595'"
     },
     "execution_count": 18,
     "metadata": {},
     "output_type": "execute_result"
    }
   ],
   "source": [
    "# public address:\n",
    "acct.address"
   ],
   "metadata": {
    "collapsed": false,
    "pycharm": {
     "name": "#%%\n"
    }
   }
  },
  {
   "cell_type": "code",
   "execution_count": 19,
   "outputs": [
    {
     "data": {
      "text/plain": "HexBytes('0xa3c5acb57916eaf7c2ff5fa7823ead85729e3afd8dfe1a34dcda6e89dfbfaaff')"
     },
     "execution_count": 19,
     "metadata": {},
     "output_type": "execute_result"
    }
   ],
   "source": [
    "# private key:\n",
    "acct.key"
   ],
   "metadata": {
    "collapsed": false,
    "pycharm": {
     "name": "#%%\n"
    }
   }
  },
  {
   "cell_type": "code",
   "execution_count": 20,
   "outputs": [],
   "source": [
    "acct_one = w3.eth.accounts[0]"
   ],
   "metadata": {
    "collapsed": false,
    "pycharm": {
     "name": "#%%\n"
    }
   }
  },
  {
   "cell_type": "code",
   "execution_count": 21,
   "outputs": [
    {
     "data": {
      "text/plain": "999996999979000000000000"
     },
     "execution_count": 21,
     "metadata": {},
     "output_type": "execute_result"
    }
   ],
   "source": [
    "w3.eth.get_balance(acct_one)"
   ],
   "metadata": {
    "collapsed": false,
    "pycharm": {
     "name": "#%%\n"
    }
   }
  },
  {
   "cell_type": "code",
   "execution_count": 22,
   "outputs": [
    {
     "data": {
      "text/plain": "'0x586c1982EB09387A805582B4AD9eA59c88a181A5'"
     },
     "execution_count": 22,
     "metadata": {},
     "output_type": "execute_result"
    }
   ],
   "source": [
    "acct_two = w3.eth.account.create()\n",
    "acct_two.address"
   ],
   "metadata": {
    "collapsed": false,
    "pycharm": {
     "name": "#%%\n"
    }
   }
  },
  {
   "cell_type": "code",
   "execution_count": 23,
   "outputs": [
    {
     "data": {
      "text/plain": "HexBytes('0xc34c4433d56a9c2ea65fc3729634e726d91cc77ff7fd5b83d37ed3d8e3666238')"
     },
     "execution_count": 23,
     "metadata": {},
     "output_type": "execute_result"
    }
   ],
   "source": [
    "acct_two.key"
   ],
   "metadata": {
    "collapsed": false,
    "pycharm": {
     "name": "#%%\n"
    }
   }
  },
  {
   "cell_type": "code",
   "execution_count": 24,
   "outputs": [],
   "source": [
    "tx_hash = w3.eth.send_transaction({\n",
    "    'from': acct_one,\n",
    "    'to': acct_two.address,\n",
    "    'value': Web3.toWei(1, 'ether')\n",
    "})"
   ],
   "metadata": {
    "collapsed": false,
    "pycharm": {
     "name": "#%%\n"
    }
   }
  },
  {
   "cell_type": "code",
   "execution_count": 27,
   "outputs": [],
   "source": [
    "# 1) manually build a transaction\n",
    "tx = {\n",
    "    'to': acct_one,\n",
    "    'value': 1000000,\n",
    "    'gas': 21000,\n",
    "    'gasPrice': w3.eth.get_block('pending')['baseFeePerGas'],\n",
    "    'nonce': 0,\n",
    "}\n",
    "\n",
    "# 2) sign the transaction with the sender's private key\n",
    "signed = w3.eth.account.sign_transaction(tx, acct_two.key)\n",
    "\n",
    "# 3) send the \"raw\" transaction\n",
    "tx_hash_raw = w3.eth.send_raw_transaction(signed.rawTransaction)"
   ],
   "metadata": {
    "collapsed": false,
    "pycharm": {
     "name": "#%%\n"
    }
   }
  },
  {
   "cell_type": "code",
   "execution_count": null,
   "outputs": [],
   "source": [
    "# interact with an existing contract\n",
    "myContract = w3.eth.contract(address=address, abi=abi)"
   ],
   "metadata": {
    "collapsed": false,
    "pycharm": {
     "name": "#%%\n"
    }
   }
  }
 ],
 "metadata": {
  "kernelspec": {
   "display_name": "Python 3",
   "language": "python",
   "name": "python3"
  },
  "language_info": {
   "codemirror_mode": {
    "name": "ipython",
    "version": 2
   },
   "file_extension": ".py",
   "mimetype": "text/x-python",
   "name": "python",
   "nbconvert_exporter": "python",
   "pygments_lexer": "ipython2",
   "version": "2.7.6"
  }
 },
 "nbformat": 4,
 "nbformat_minor": 0
}